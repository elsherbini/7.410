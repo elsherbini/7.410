{
 "cells": [
  {
   "cell_type": "code",
   "execution_count": 1,
   "metadata": {
    "collapsed": true
   },
   "outputs": [],
   "source": [
    "%load_ext rpy2.ipython"
   ]
  },
  {
   "cell_type": "code",
   "execution_count": 3,
   "metadata": {
    "collapsed": false
   },
   "outputs": [
    {
     "data": {
      "text/plain": [
       "[1] 0.2008334\n"
      ]
     },
     "metadata": {},
     "output_type": "display_data"
    }
   ],
   "source": [
    "%%R\n",
    "x=3\n",
    "m=5\n",
    "n=7\n",
    "y=2\n",
    "\n",
    "#p for p1=!p2\n",
    "p1 = x/m\n",
    "p2 = y/n\n",
    "\n",
    "# log likelihood for p1=!p2\n",
    "p_neq_ll = x*log(p1)+(m-x)*log(1-p1)+y*log(p2)+(n-y)*log(1-p2)\n",
    "\n",
    "#p for p==p2\n",
    "p = (x+y)/(m+n)\n",
    "\n",
    "# log likelihood for p1==p2\n",
    "p_eq_ll = x*log(p)+(m-x)*log(1-p)+y*log(p)+(n-y)*log(1-p)\n",
    "\n",
    "#compare twice the difference to a chi squared distribution with 1 degree of freedom\n",
    "dchisq(2*(p_neq_ll - p_eq_ll), 1)"
   ]
  },
  {
   "cell_type": "markdown",
   "metadata": {},
   "source": [
    "## Comments\n",
    "\n",
    "With the LR test, the p-value was ~0.2. When I tested with more extreme values (for instance, n=12 and leaving the others the same) the LR test would yield a smaller p-value. Increacing the sample size but leaving the ratios the same (i.e. multiplying all the values by the same factor) also made the p-value more extreme. I also tried using fisher's exact test which can be more sensitive with smaller (n+m), but the result still leaned towards the two samples having the same p."
   ]
  },
  {
   "cell_type": "code",
   "execution_count": 2,
   "metadata": {
    "collapsed": false
   },
   "outputs": [
    {
     "data": {
      "text/plain": [
       "\n",
       "\tFisher's Exact Test for Count Data\n",
       "\n",
       "data:  data\n",
       "p-value = 0.6199\n",
       "alternative hypothesis: true odds ratio is not equal to 1\n",
       "95 percent confidence interval:\n",
       " 0.03039342 6.17614082\n",
       "sample estimates:\n",
       "odds ratio \n",
       " 0.4978506 \n",
       "\n"
      ]
     },
     "metadata": {},
     "output_type": "display_data"
    }
   ],
   "source": [
    "%%R\n",
    "data <- matrix(data=c(5,7,3,2), nrow=2, ncol=2)\n",
    "fisher.test(data)"
   ]
  }
 ],
 "metadata": {
  "kernelspec": {
   "display_name": "Python 3",
   "language": "python",
   "name": "python3"
  },
  "language_info": {
   "codemirror_mode": {
    "name": "ipython",
    "version": 3
   },
   "file_extension": ".py",
   "mimetype": "text/x-python",
   "name": "python",
   "nbconvert_exporter": "python",
   "pygments_lexer": "ipython3",
   "version": "3.5.1"
  }
 },
 "nbformat": 4,
 "nbformat_minor": 0
}
