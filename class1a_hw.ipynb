{
 "cells": [
  {
   "cell_type": "code",
   "execution_count": 6,
   "metadata": {
    "collapsed": true
   },
   "outputs": [],
   "source": [
    "import numpy as np\n",
    "from scipy.stats import chi2"
   ]
  },
  {
   "cell_type": "markdown",
   "metadata": {},
   "source": [
    "###approximating the upper 0.05 quantile of the $\\chi^2$ distribution\n",
    "\n",
    "Using the a Normal approximation thanks to the central limit theorem for large $df$:\n",
    "\n",
    "$$\n",
    "\\chi^2(df) \\simeq N(df,2df)\n",
    "$$\n"
   ]
  },
  {
   "cell_type": "code",
   "execution_count": 30,
   "metadata": {
    "collapsed": true
   },
   "outputs": [],
   "source": [
    "def estimate_and_actual(df):\n",
    "    estimate = df + np.sqrt(2*df)*1.65  # normal approximation\n",
    "    actual = chi2.isf(0.05, df)  # using the scipy.stats.chi2 distribution\n",
    "    return '{:10} estimate: {:10.3f}, actual: {:10.3f}'.format(df, estimate, actual)"
   ]
  },
  {
   "cell_type": "code",
   "execution_count": 31,
   "metadata": {
    "collapsed": false
   },
   "outputs": [
    {
     "name": "stdout",
     "output_type": "stream",
     "text": [
      "         1 estimate:      3.333, actual:      3.841\n",
      "         2 estimate:      5.300, actual:      5.991\n",
      "         3 estimate:      7.042, actual:      7.815\n",
      "         4 estimate:      8.667, actual:      9.488\n",
      "         5 estimate:     10.218, actual:     11.070\n",
      "         6 estimate:     11.716, actual:     12.592\n",
      "         7 estimate:     13.174, actual:     14.067\n",
      "         8 estimate:     14.600, actual:     15.507\n",
      "         9 estimate:     16.000, actual:     16.919\n",
      "        10 estimate:     17.379, actual:     18.307\n"
     ]
    }
   ],
   "source": [
    "for i in range(1,11):\n",
    "    print estimate_and_actual(i)"
   ]
  },
  {
   "cell_type": "code",
   "execution_count": 10,
   "metadata": {
    "collapsed": false
   },
   "outputs": [
    {
     "name": "stdout",
     "output_type": "stream",
     "text": [
      "estimate: 4.33345237792, actual: 5.99146454711\n"
     ]
    }
   ],
   "source": [
    "orint estimate_and_actual(10000)"
   ]
  },
  {
   "cell_type": "code",
   "execution_count": 11,
   "metadata": {
    "collapsed": false
   },
   "outputs": [
    {
     "name": "stdout",
     "output_type": "stream",
     "text": [
      "estimate: 15.2177581393, actual: 18.3070380533\n"
     ]
    }
   ],
   "source": [
    "# for 2 degrees of freedom:\n",
    "estimate = 10 + np.sqrt(10)*1.65\n",
    "actual = chi2.isf(0.05, 10)\n",
    "print 'estimate: {}, actual: {}'.format(estimate, actual)"
   ]
  },
  {
   "cell_type": "code",
   "execution_count": 14,
   "metadata": {
    "collapsed": false
   },
   "outputs": [
    {
     "name": "stdout",
     "output_type": "stream",
     "text": [
      "estimate: 1001650.0, actual: 1002327.31078\n"
     ]
    }
   ],
   "source": [
    "# for 2 degrees of freedom:\n",
    "estimate = 1e6 + np.sqrt(1e6)*1.65\n",
    "actual = chi2.isf(0.05, 1e6)\n",
    "print 'estimate: {}, actual: {}'.format(estimate, actual)"
   ]
  }
 ],
 "metadata": {
  "kernelspec": {
   "display_name": "Python 2",
   "language": "python",
   "name": "python2"
  },
  "language_info": {
   "codemirror_mode": {
    "name": "ipython",
    "version": 2
   },
   "file_extension": ".py",
   "mimetype": "text/x-python",
   "name": "python",
   "nbconvert_exporter": "python",
   "pygments_lexer": "ipython2",
   "version": "2.7.10"
  }
 },
 "nbformat": 4,
 "nbformat_minor": 0
}
