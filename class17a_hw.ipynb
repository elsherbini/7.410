{
 "cells": [
  {
   "cell_type": "code",
   "execution_count": 40,
   "metadata": {
    "collapsed": false
   },
   "outputs": [
    {
     "name": "stderr",
     "output_type": "stream",
     "text": [
      "Warning message:\n",
      "In log(pi): NaNs producedWarning message:\n",
      "In log(pi): NaNs producedWarning message:\n",
      "In log(pi): NaNs producedWarning message:\n",
      "In log(pi): NaNs producedWarning message:\n",
      "In log(pi): NaNs producedWarning message:\n",
      "In log(pi): NaNs producedWarning message:\n",
      "In log(pi * (1 - rho)): NaNs producedWarning message:\n",
      "In log(pi + (1 - pi) * rho): NaNs producedWarning message:\n",
      "In log(pi * (1 - rho)): NaNs producedWarning message:\n",
      "In log(pi + (1 - pi) * rho): NaNs producedWarning message:\n",
      "In log(pi * (1 - rho)): NaNs producedWarning message:\n",
      "In log(pi + (1 - pi) * rho): NaNs producedWarning message:\n",
      "In log(pi * (1 - rho)): NaNs producedWarning message:\n",
      "In log(pi + (1 - pi) * rho): NaNs producedWarning message:\n",
      "In log(pi + (1 - pi) * rho): NaNs produced"
     ]
    },
    {
     "name": "stdout",
     "output_type": "stream",
     "text": [
      "[1] 0.5489247\n",
      "\n",
      "Call:\n",
      "mle(minuslogl = ll1, start = list(pi = 0.5))\n",
      "\n",
      "Coefficients:\n",
      "      pi \n",
      "0.296297 \n",
      "\n",
      "Call:\n",
      "mle(minuslogl = ll2, start = list(pi = 0.5, rho = 0.1))\n",
      "\n",
      "Coefficients:\n",
      "        pi        rho \n",
      " 0.3000002 -0.1111111 \n"
     ]
    }
   ],
   "source": [
    "library(stats4)\n",
    "#ll for rho=0\n",
    "ll1 <- function(pi){\n",
    "    -1*(12*log(1.0-pi) + 6*log(pi) + 7*log(1.0-pi) + 2*log(pi))\n",
    "}\n",
    "\n",
    "fit1 <- mle(ll1, start=list(pi=0.5))\n",
    "\n",
    "ll2 <- function(pi, rho) {\n",
    "     -1*(12*log((1-pi)+rho*pi) + 6*log(pi*(1-rho)) + 7*log((1-pi)*(1-rho)) + 2*log(pi+(1-pi)*rho))\n",
    "}\n",
    "\n",
    "fit2 <- mle(ll2, start=list(pi=0.5, rho=0.1))\n",
    "\n",
    "#compare twice the difference of the log likelihoods to a chi squared distribution with 1 degree of freedom\n",
    "print(dchisq(2*(logLik(fit2)[1] - logLik(fit1)[1]), 1))\n",
    "print(fit1)\n",
    "print(fit2)"
   ]
  },
  {
   "cell_type": "markdown",
   "metadata": {},
   "source": [
    "## Comment\n",
    "Allowing rho to be non zero didn't change the esimate for pi. This somewhat surprised me because by eye it seemed like 0 was \"sticky\" and would result in a positive correlation with T and T-1. The p-value when comparing the LR with the chi squared distribution was 0.54. In both cases, pi was estimated to be about 0.3, which is the observed transition frequency as well. Below I used the markovchain library to estimate the transition matrix, allowing for "
   ]
  },
  {
   "cell_type": "code",
   "execution_count": 36,
   "metadata": {
    "collapsed": false
   },
   "outputs": [
    {
     "ename": "ERROR",
     "evalue": "Error in vapply(seq_along(mapped), function(i) {: values must be length 1,\n but FUN(X[[1]]) result is length 0\n",
     "output_type": "error",
     "traceback": [
      "Error in vapply(seq_along(mapped), function(i) {: values must be length 1,\n but FUN(X[[1]]) result is length 0\n"
     ]
    },
    {
     "data": {
      "text/plain": [
       "$estimate\n",
       "MLE Fit \n",
       " A  2 - dimensional discrete Markov Chain with following states: \n",
       " 0, 1 \n",
       " The transition matrix   (by rows)  is defined as follows: \n",
       "          0         1\n",
       "0 0.7000000 0.3000000\n",
       "1 0.7777778 0.2222222\n",
       "\n",
       "\n",
       "$standardError\n",
       "          0         1\n",
       "0 0.1870829 0.1224745\n",
       "1 0.2939724 0.1571348\n",
       "\n",
       "$confidenceInterval\n",
       "$confidenceInterval$confidenceLevel\n",
       "[1] 0.95\n",
       "\n",
       "$confidenceInterval$lowerEndpointMatrix\n",
       "          0         1\n",
       "0 0.3922761 0.0985474\n",
       "1 0.2942363 0.0000000\n",
       "\n",
       "$confidenceInterval$upperEndpointMatrix\n",
       "  0         1\n",
       "0 1 0.5014526\n",
       "1 1 0.4806860\n",
       "\n",
       "\n",
       "$logLikelihood\n",
       "[1] -16.98464\n"
      ]
     },
     "execution_count": 36,
     "metadata": {},
     "output_type": "execute_result"
    }
   ],
   "source": [
    "library(markovchain)\n",
    "data = c(1,0,0,0,0,0,1,1,0,1,0,1,1,0,0,0,0,0,1,0,0,1,0,1,0,0,0,0,0,0)\n",
    "markovchainFit(data=data, confidencelevel=0.95)"
   ]
  }
 ],
 "metadata": {
  "kernelspec": {
   "display_name": "R",
   "language": "R",
   "name": "ir"
  },
  "language_info": {
   "codemirror_mode": "r",
   "file_extension": ".r",
   "mimetype": "text/x-r-source",
   "name": "R",
   "pygments_lexer": "r",
   "version": "3.2.2"
  }
 },
 "nbformat": 4,
 "nbformat_minor": 0
}
